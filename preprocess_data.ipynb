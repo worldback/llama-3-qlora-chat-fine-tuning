{
 "cells": [
  {
   "cell_type": "code",
   "execution_count": 2,
   "metadata": {
    "collapsed": true,
    "ExecuteTime": {
     "end_time": "2024-07-12T08:02:42.346536300Z",
     "start_time": "2024-07-12T08:02:40.837968200Z"
    }
   },
   "outputs": [],
   "source": [
    "import datasets"
   ]
  },
  {
   "cell_type": "code",
   "execution_count": 3,
   "outputs": [
    {
     "name": "stderr",
     "output_type": "stream",
     "text": [
      "Using the latest cached version of the dataset since stingning/ultrachat couldn't be found on the Hugging Face Hub\n",
      "Found the latest cached dataset configuration 'default' at C:\\Users\\AI\\.cache\\huggingface\\datasets\\stingning___ultrachat\\default\\0.0.0\\f220fe796ce3ed62fbe1681b45ce6cbc9c6cabe0 (last modified on Thu Jul 11 16:41:47 2024).\n"
     ]
    },
    {
     "data": {
      "text/plain": "Loading dataset shards:   0%|          | 0/19 [00:00<?, ?it/s]",
      "application/vnd.jupyter.widget-view+json": {
       "version_major": 2,
       "version_minor": 0,
       "model_id": "b79563bf7aad40b8b929d3387550708b"
      }
     },
     "metadata": {},
     "output_type": "display_data"
    }
   ],
   "source": [
    "data = datasets.load_dataset(\"stingning/ultrachat\")"
   ],
   "metadata": {
    "collapsed": false,
    "ExecuteTime": {
     "end_time": "2024-07-12T08:03:20.845654400Z",
     "start_time": "2024-07-12T08:02:42.348532Z"
    }
   }
  },
  {
   "cell_type": "code",
   "execution_count": 4,
   "outputs": [],
   "source": [
    "def filter_by_turns(example, turns=4, max_length=3500):\n",
    "    if len(example['data']) < turns * 2:\n",
    "        return False\n",
    "    else:\n",
    "        msg_len = sum(len(msg) for msg in example['data'])\n",
    "        if msg_len < max_length and msg_len > 500:\n",
    "            return True\n",
    "        return False\n",
    "filtered_turns_dataset = data.filter(filter_by_turns, fn_kwargs={\"turns\": 4, \"max_length\":3500})"
   ],
   "metadata": {
    "collapsed": false,
    "ExecuteTime": {
     "end_time": "2024-07-12T08:03:20.890736700Z",
     "start_time": "2024-07-12T08:03:20.845654400Z"
    }
   }
  },
  {
   "cell_type": "code",
   "execution_count": 5,
   "outputs": [
    {
     "data": {
      "text/plain": "DatasetDict({\n    train: Dataset({\n        features: ['id', 'data'],\n        num_rows: 58183\n    })\n})"
     },
     "execution_count": 5,
     "metadata": {},
     "output_type": "execute_result"
    }
   ],
   "source": [
    "filtered_turns_dataset"
   ],
   "metadata": {
    "collapsed": false,
    "ExecuteTime": {
     "end_time": "2024-07-12T08:03:20.904091400Z",
     "start_time": "2024-07-12T08:03:20.892728800Z"
    }
   }
  },
  {
   "cell_type": "code",
   "execution_count": 6,
   "outputs": [
    {
     "data": {
      "text/plain": "8"
     },
     "execution_count": 6,
     "metadata": {},
     "output_type": "execute_result"
    }
   ],
   "source": [
    "len(filtered_turns_dataset[\"train\"][0]['data'])"
   ],
   "metadata": {
    "collapsed": false,
    "ExecuteTime": {
     "end_time": "2024-07-12T08:03:20.905089100Z",
     "start_time": "2024-07-12T08:03:20.900115500Z"
    }
   }
  },
  {
   "cell_type": "code",
   "execution_count": 7,
   "outputs": [],
   "source": [
    "system_msg = \"\"\"\n",
    "You are a helpful, respectful and honest assistant. Always answer as helpfully as possible, while being safe.\n",
    "Your answers should not include any harmful, unethical, racist, sexist, toxic, dangerous, or illegal content. Please ensure that your responses are socially unbiased and positive in nature.\n",
    "\n",
    "If a question does not make any sense, or is not factually coherent, explain why instead of answering something not correct. If you don't know the answer to a question, please don't share false information.\\n\"\"\""
   ],
   "metadata": {
    "collapsed": false,
    "ExecuteTime": {
     "end_time": "2024-07-12T08:03:20.918604Z",
     "start_time": "2024-07-12T08:03:20.905089100Z"
    }
   }
  },
  {
   "cell_type": "code",
   "execution_count": 8,
   "outputs": [],
   "source": [
    "def create_conversation(sample):\n",
    "    conv = [{\"role\": \"system\", \"content\": system_msg}]\n",
    "    for idx, msg in enumerate(sample['data']):\n",
    "        if idx % 2 == 0:\n",
    "            conv.append({\"role\": \"user\", \"content\": msg})\n",
    "        else:\n",
    "            conv.append({\"role\": \"assistant\", \"content\": msg})\n",
    "    return {\n",
    "        \"messages\": conv\n",
    "    }"
   ],
   "metadata": {
    "collapsed": false,
    "ExecuteTime": {
     "end_time": "2024-07-12T08:03:20.954852Z",
     "start_time": "2024-07-12T08:03:20.920598500Z"
    }
   }
  },
  {
   "cell_type": "code",
   "execution_count": 9,
   "outputs": [],
   "source": [
    "new_data = filtered_turns_dataset.map(create_conversation,  remove_columns=filtered_turns_dataset['train'].features)"
   ],
   "metadata": {
    "collapsed": false,
    "ExecuteTime": {
     "end_time": "2024-07-12T08:03:21.333694300Z",
     "start_time": "2024-07-12T08:03:20.926253700Z"
    }
   }
  },
  {
   "cell_type": "code",
   "execution_count": 10,
   "outputs": [],
   "source": [
    "small_data= new_data['train'].train_test_split(test_size=0.05, shuffle=True)"
   ],
   "metadata": {
    "collapsed": false,
    "ExecuteTime": {
     "end_time": "2024-07-12T08:03:21.371551900Z",
     "start_time": "2024-07-12T08:03:21.335690400Z"
    }
   }
  },
  {
   "cell_type": "code",
   "execution_count": 12,
   "outputs": [
    {
     "data": {
      "text/plain": "DatasetDict({\n    train: Dataset({\n        features: ['messages'],\n        num_rows: 55273\n    })\n    test: Dataset({\n        features: ['messages'],\n        num_rows: 2910\n    })\n})"
     },
     "execution_count": 12,
     "metadata": {},
     "output_type": "execute_result"
    }
   ],
   "source": [
    "small_data"
   ],
   "metadata": {
    "collapsed": false,
    "ExecuteTime": {
     "end_time": "2024-07-12T08:08:06.278399700Z",
     "start_time": "2024-07-12T08:08:06.254275600Z"
    }
   }
  },
  {
   "cell_type": "code",
   "execution_count": 11,
   "outputs": [
    {
     "data": {
      "text/plain": "Saving the dataset (0/1 shards):   0%|          | 0/55273 [00:00<?, ? examples/s]",
      "application/vnd.jupyter.widget-view+json": {
       "version_major": 2,
       "version_minor": 0,
       "model_id": "b29c6f87ea8c4836b9b267c0a8c4bf3d"
      }
     },
     "metadata": {},
     "output_type": "display_data"
    },
    {
     "data": {
      "text/plain": "Saving the dataset (0/1 shards):   0%|          | 0/2910 [00:00<?, ? examples/s]",
      "application/vnd.jupyter.widget-view+json": {
       "version_major": 2,
       "version_minor": 0,
       "model_id": "2b47bb0f3c10410db958174cd5b2cf0a"
      }
     },
     "metadata": {},
     "output_type": "display_data"
    }
   ],
   "source": [
    "small_data.save_to_disk(\"convs_data\")"
   ],
   "metadata": {
    "collapsed": false,
    "ExecuteTime": {
     "end_time": "2024-07-12T08:03:21.852120800Z",
     "start_time": "2024-07-12T08:03:21.365568200Z"
    }
   }
  }
 ],
 "metadata": {
  "kernelspec": {
   "display_name": "Python 3",
   "language": "python",
   "name": "python3"
  },
  "language_info": {
   "codemirror_mode": {
    "name": "ipython",
    "version": 2
   },
   "file_extension": ".py",
   "mimetype": "text/x-python",
   "name": "python",
   "nbconvert_exporter": "python",
   "pygments_lexer": "ipython2",
   "version": "2.7.6"
  }
 },
 "nbformat": 4,
 "nbformat_minor": 0
}
