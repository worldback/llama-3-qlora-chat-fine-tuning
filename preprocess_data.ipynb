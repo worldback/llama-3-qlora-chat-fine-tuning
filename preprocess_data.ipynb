{
 "cells": [
  {
   "cell_type": "code",
   "execution_count": 2,
   "metadata": {
    "collapsed": true,
    "ExecuteTime": {
     "end_time": "2024-07-15T06:47:59.795369800Z",
     "start_time": "2024-07-15T06:47:54.262287500Z"
    }
   },
   "outputs": [],
   "source": [
    "import datasets\n",
    "import random\n",
    "from transformers import AutoTokenizer\n",
    "from utils import ChatMlSpecialTokens\n",
    "import torch\n",
    "torch.set_printoptions(threshold=10000)\n",
    "random.seed(100)"
   ]
  },
  {
   "cell_type": "code",
   "execution_count": 3,
   "outputs": [
    {
     "data": {
      "text/plain": "Dataset({\n    features: ['data'],\n    num_rows: 457887\n})"
     },
     "execution_count": 3,
     "metadata": {},
     "output_type": "execute_result"
    }
   ],
   "source": [
    "data = datasets.load_from_disk(\"merge\")\n",
    "shuffle_data = data.shuffle()\n",
    "shuffle_data"
   ],
   "metadata": {
    "collapsed": false,
    "ExecuteTime": {
     "end_time": "2024-07-15T06:47:59.945331100Z",
     "start_time": "2024-07-15T06:47:59.795369800Z"
    }
   }
  },
  {
   "cell_type": "code",
   "execution_count": 4,
   "outputs": [
    {
     "data": {
      "text/plain": "['i want to design a special  prompts and test it interactively to  predict complications in diabetes from doctor free notes, what dataset quality will be suitable',\n 'I would recommend using a high-quality dataset that is well-curated and has been thoroughly cleaned. The dataset should be large enough to provide enough training data for your model, and it should be representative of the real-world data that you will be using.']"
     },
     "execution_count": 4,
     "metadata": {},
     "output_type": "execute_result"
    }
   ],
   "source": [
    "shuffle_data['data'][0]"
   ],
   "metadata": {
    "collapsed": false,
    "ExecuteTime": {
     "end_time": "2024-07-15T06:48:05.477868600Z",
     "start_time": "2024-07-15T06:47:59.945331100Z"
    }
   }
  },
  {
   "cell_type": "code",
   "execution_count": 5,
   "outputs": [
    {
     "data": {
      "text/plain": "Filter:   0%|          | 0/457887 [00:00<?, ? examples/s]",
      "application/vnd.jupyter.widget-view+json": {
       "version_major": 2,
       "version_minor": 0,
       "model_id": "39f95a9e01444770859c0645ae7524a8"
      }
     },
     "metadata": {},
     "output_type": "display_data"
    },
    {
     "data": {
      "text/plain": "Dataset({\n    features: ['data'],\n    num_rows: 187864\n})"
     },
     "execution_count": 5,
     "metadata": {},
     "output_type": "execute_result"
    }
   ],
   "source": [
    "def filter_data(sample):\n",
    "    turns = len(sample['data'])\n",
    "    prompt_len = sum(len(s) for s in sample['data'])\n",
    "    if prompt_len > 800 and prompt_len < 3600:\n",
    "        if turns < 6:\n",
    "            if random.random() < 0.7 :\n",
    "                return True\n",
    "            else:\n",
    "                return False\n",
    "        else:\n",
    "            return True\n",
    "    else:\n",
    "        return False\n",
    "# 应用过滤器\n",
    "filtered_data = shuffle_data.filter(filter_data)\n",
    "filtered_data"
   ],
   "metadata": {
    "collapsed": false,
    "ExecuteTime": {
     "end_time": "2024-07-15T06:48:11.204952400Z",
     "start_time": "2024-07-15T06:48:05.477868600Z"
    }
   }
  },
  {
   "cell_type": "code",
   "execution_count": 6,
   "outputs": [
    {
     "name": "stdout",
     "output_type": "stream",
     "text": [
      "0\n"
     ]
    }
   ],
   "source": [
    "invaild = 0\n",
    "for i in filtered_data['data']:\n",
    "    if len(i) % 2 != 0:\n",
    "        invaild += 1\n",
    "print(invaild)"
   ],
   "metadata": {
    "collapsed": false,
    "ExecuteTime": {
     "end_time": "2024-07-15T06:48:13.712137Z",
     "start_time": "2024-07-15T06:48:11.204952400Z"
    }
   }
  },
  {
   "cell_type": "code",
   "execution_count": 7,
   "outputs": [
    {
     "name": "stderr",
     "output_type": "stream",
     "text": [
      "Special tokens have been added in the vocabulary, make sure the associated word embeddings are fine-tuned or trained.\n"
     ]
    }
   ],
   "source": [
    "system_msg = \"\"\"\n",
    "You are a helpful, respectful and honest assistant. Always answer as helpfully as possible, while being safe.\n",
    "Your answers should not include any harmful, unethical, racist, sexist, toxic, dangerous, or illegal content. Please ensure that your responses are socially unbiased and positive in nature.\n",
    "\n",
    "If a question does not make any sense, or is not factually coherent, explain why instead of answering something not correct. If you don't know the answer to a question, please don't share false information.\\n\"\"\"\n",
    "tokenizer = AutoTokenizer.from_pretrained(\"meta-llama/Meta-Llama-3-8B\")\n",
    "chat_format = ChatMlSpecialTokens()\n",
    "tokenizer.chat_template = chat_format.chat_template"
   ],
   "metadata": {
    "collapsed": false,
    "ExecuteTime": {
     "end_time": "2024-07-15T06:48:24.063364Z",
     "start_time": "2024-07-15T06:48:13.712137Z"
    }
   }
  },
  {
   "cell_type": "code",
   "execution_count": 8,
   "outputs": [],
   "source": [
    "chat = []\n",
    "for item in filtered_data:\n",
    "    conv = []\n",
    "    if len(item['data']) % 2 != 0:\n",
    "        continue\n",
    "    for idx, msg in enumerate(item[\"data\"]):\n",
    "        # 去掉以 assistant:和user:结尾的数据，不干净的数据\n",
    "        if msg.strip().endswith(\"assistant:\") or msg.strip().endswith(\"user:\"):\n",
    "            conv = []\n",
    "            break\n",
    "        if msg.strip().endswith(\"Assistant:\") or msg.strip().endswith(\"User:\"):\n",
    "            conv = []\n",
    "            break\n",
    "        if idx == 0:\n",
    "            conv.append( {\"role\": \"system\", \"content\": system_msg })\n",
    "        if idx % 2 ==0 :\n",
    "            conv.append({\"role\": \"user\", \"content\": msg})\n",
    "        else:\n",
    "            conv.append({\"role\": \"assistant\", \"content\": msg})\n",
    "    if conv:\n",
    "        chat.append(conv)"
   ],
   "metadata": {
    "collapsed": false,
    "ExecuteTime": {
     "end_time": "2024-07-15T06:48:35.957827300Z",
     "start_time": "2024-07-15T06:48:24.063364Z"
    }
   }
  },
  {
   "cell_type": "code",
   "execution_count": 9,
   "outputs": [],
   "source": [
    "for i in chat:\n",
    "    if len(i) % 2 != 1:\n",
    "        print(i)"
   ],
   "metadata": {
    "collapsed": false,
    "ExecuteTime": {
     "end_time": "2024-07-15T06:48:35.987181200Z",
     "start_time": "2024-07-15T06:48:35.960720200Z"
    }
   }
  },
  {
   "cell_type": "code",
   "execution_count": 10,
   "outputs": [
    {
     "data": {
      "text/plain": "176306"
     },
     "execution_count": 10,
     "metadata": {},
     "output_type": "execute_result"
    }
   ],
   "source": [
    "len(chat)"
   ],
   "metadata": {
    "collapsed": false,
    "ExecuteTime": {
     "end_time": "2024-07-15T06:48:36.027921900Z",
     "start_time": "2024-07-15T06:48:35.987181200Z"
    }
   }
  },
  {
   "cell_type": "code",
   "execution_count": 11,
   "outputs": [
    {
     "data": {
      "text/plain": "176306"
     },
     "execution_count": 11,
     "metadata": {},
     "output_type": "execute_result"
    }
   ],
   "source": [
    "chat_tokens = tokenizer.apply_chat_template(chat, tokenize=True)\n",
    "len(chat_tokens)"
   ],
   "metadata": {
    "collapsed": false,
    "ExecuteTime": {
     "end_time": "2024-07-15T06:56:41.029163200Z",
     "start_time": "2024-07-15T06:48:35.994677200Z"
    }
   }
  },
  {
   "cell_type": "code",
   "execution_count": 12,
   "outputs": [
    {
     "data": {
      "text/plain": "'<|begin_of_text|><|start_header_id|>system<|end_header_id|>\\nYou are a helpful, respectful and honest assistant. Always answer as helpfully as possible, while being safe.\\nYour answers should not include any harmful, unethical, racist, sexist, toxic, dangerous, or illegal content. Please ensure that your responses are socially unbiased and positive in nature.\\n\\nIf a question does not make any sense, or is not factually coherent, explain why instead of answering something not correct. If you don\\'t know the answer to a question, please don\\'t share false information.\\n<|eot_id|><|start_header_id|>user<|end_header_id|>1. Create a Google account if you don\\'t already have one.<|eot_id|><|start_header_id|>assistant<|end_header_id|>I don\\'t have the ability to create an account. however, you can create a google account by following these steps:\\n\\n1. go to the google sign-up page: https://accounts.google.com/signup.\\n2. enter your first and last name in the appropriate fields.\\n3. choose a username for your account. this will become your gmail address.\\n4. create a password for your account. make sure it is strong and secure.\\n5. confirm your password.\\n6. enter your birthdate and gender.\\n7. provide your mobile phone number or an alternative email address as recovery options.\\n8. click \"next\" to review google\\'s terms and conditions.\\n9. check the box to indicate that you agree to the terms and conditions.\\n10. click \"create account.\"\\n\\ncongratulations, you now have a google account!<|eot_id|><|start_header_id|>user<|end_header_id|>Can you give me some tips on creating a strong password?<|eot_id|><|start_header_id|>assistant<|end_header_id|>Sure! Here are some tips for creating a strong password:\\n\\n1. Use a mix of uppercase and lowercase letters. 2. Include numbers and symbols. 3. Avoid using easily guessable information like your name, birthdate or pet\\'s name. 4. Use a long password - the longer it is, the harder it is to crack. Aim for at least 12 characters. 5. Don\\'t reuse passwords across multiple accounts. Additionally, you can consider using a password manager to create and store complex passwords for all your online accounts. This way, you only need to remember one master password and the manager will take care of the rest.<|eot_id|><|end_of_text|>'"
     },
     "execution_count": 12,
     "metadata": {},
     "output_type": "execute_result"
    }
   ],
   "source": [
    "tokenizer.decode(chat_tokens[0])"
   ],
   "metadata": {
    "collapsed": false,
    "ExecuteTime": {
     "end_time": "2024-07-15T06:56:41.038273900Z",
     "start_time": "2024-07-15T06:56:41.029163200Z"
    }
   }
  },
  {
   "cell_type": "code",
   "execution_count": 13,
   "outputs": [
    {
     "data": {
      "text/plain": "[{'role': 'system',\n  'content': \"\\nYou are a helpful, respectful and honest assistant. Always answer as helpfully as possible, while being safe.\\nYour answers should not include any harmful, unethical, racist, sexist, toxic, dangerous, or illegal content. Please ensure that your responses are socially unbiased and positive in nature.\\n\\nIf a question does not make any sense, or is not factually coherent, explain why instead of answering something not correct. If you don't know the answer to a question, please don't share false information.\\n\"},\n {'role': 'user',\n  'content': \"1. Create a Google account if you don't already have one.\"},\n {'role': 'assistant',\n  'content': 'I don\\'t have the ability to create an account. however, you can create a google account by following these steps:\\n\\n1. go to the google sign-up page: https://accounts.google.com/signup.\\n2. enter your first and last name in the appropriate fields.\\n3. choose a username for your account. this will become your gmail address.\\n4. create a password for your account. make sure it is strong and secure.\\n5. confirm your password.\\n6. enter your birthdate and gender.\\n7. provide your mobile phone number or an alternative email address as recovery options.\\n8. click \"next\" to review google\\'s terms and conditions.\\n9. check the box to indicate that you agree to the terms and conditions.\\n10. click \"create account.\"\\n\\ncongratulations, you now have a google account!'},\n {'role': 'user',\n  'content': 'Can you give me some tips on creating a strong password?'},\n {'role': 'assistant',\n  'content': \"Sure! Here are some tips for creating a strong password:\\n\\n1. Use a mix of uppercase and lowercase letters. 2. Include numbers and symbols. 3. Avoid using easily guessable information like your name, birthdate or pet's name. 4. Use a long password - the longer it is, the harder it is to crack. Aim for at least 12 characters. 5. Don't reuse passwords across multiple accounts. Additionally, you can consider using a password manager to create and store complex passwords for all your online accounts. This way, you only need to remember one master password and the manager will take care of the rest.\"}]"
     },
     "execution_count": 13,
     "metadata": {},
     "output_type": "execute_result"
    }
   ],
   "source": [
    "chat[0]"
   ],
   "metadata": {
    "collapsed": false,
    "ExecuteTime": {
     "end_time": "2024-07-15T06:56:41.045786800Z",
     "start_time": "2024-07-15T06:56:41.038273900Z"
    }
   }
  },
  {
   "cell_type": "code",
   "execution_count": 14,
   "outputs": [
    {
     "data": {
      "text/plain": "176220"
     },
     "execution_count": 14,
     "metadata": {},
     "output_type": "execute_result"
    }
   ],
   "source": [
    "filter_length_idx = []\n",
    "for idx, item in enumerate(chat_tokens):\n",
    "    if len(item) < 1024:\n",
    "        filter_length_idx.append(idx)\n",
    "len(filter_length_idx)"
   ],
   "metadata": {
    "collapsed": false,
    "ExecuteTime": {
     "end_time": "2024-07-15T06:56:41.113101200Z",
     "start_time": "2024-07-15T06:56:41.045786800Z"
    }
   }
  },
  {
   "cell_type": "code",
   "execution_count": 15,
   "outputs": [],
   "source": [
    "select_chat = []\n",
    "for i in filter_length_idx:\n",
    "    select_chat.append(chat[i])"
   ],
   "metadata": {
    "collapsed": false,
    "ExecuteTime": {
     "end_time": "2024-07-15T06:56:41.160618900Z",
     "start_time": "2024-07-15T06:56:41.113101200Z"
    }
   }
  },
  {
   "cell_type": "code",
   "execution_count": 16,
   "outputs": [],
   "source": [
    "select_chat_format = tokenizer.apply_chat_template(select_chat, tokenize=True)"
   ],
   "metadata": {
    "collapsed": false,
    "ExecuteTime": {
     "end_time": "2024-07-15T07:06:07.370949700Z",
     "start_time": "2024-07-15T06:56:41.156703500Z"
    }
   }
  },
  {
   "cell_type": "code",
   "execution_count": 17,
   "outputs": [
    {
     "data": {
      "text/plain": "0"
     },
     "execution_count": 17,
     "metadata": {},
     "output_type": "execute_result"
    }
   ],
   "source": [
    "# 看有没有超过1024个token的\n",
    "exceed = []\n",
    "for idx, item in enumerate(select_chat_format):\n",
    "    if len(item) >= 1024:\n",
    "        exceed.append(idx)\n",
    "len(exceed)"
   ],
   "metadata": {
    "collapsed": false,
    "ExecuteTime": {
     "end_time": "2024-07-15T07:06:07.417611100Z",
     "start_time": "2024-07-15T07:06:07.370949700Z"
    }
   }
  },
  {
   "cell_type": "code",
   "execution_count": 18,
   "outputs": [],
   "source": [
    "chat_dataset = datasets.Dataset.from_list([ {\"messages\": item}  for item in select_chat])"
   ],
   "metadata": {
    "collapsed": false,
    "ExecuteTime": {
     "end_time": "2024-07-15T07:06:09.947525500Z",
     "start_time": "2024-07-15T07:06:07.410978Z"
    }
   }
  },
  {
   "cell_type": "code",
   "execution_count": 19,
   "outputs": [
    {
     "data": {
      "text/plain": "DatasetDict({\n    train: Dataset({\n        features: ['messages'],\n        num_rows: 174986\n    })\n    test: Dataset({\n        features: ['messages'],\n        num_rows: 1234\n    })\n})"
     },
     "execution_count": 19,
     "metadata": {},
     "output_type": "execute_result"
    }
   ],
   "source": [
    "train_test_data=chat_dataset.train_test_split(test_size=0.007)\n",
    "train_test_data"
   ],
   "metadata": {
    "collapsed": false,
    "ExecuteTime": {
     "end_time": "2024-07-15T07:06:10.033476400Z",
     "start_time": "2024-07-15T07:06:09.948520600Z"
    }
   }
  },
  {
   "cell_type": "code",
   "execution_count": 20,
   "outputs": [
    {
     "data": {
      "text/plain": "Saving the dataset (0/1 shards):   0%|          | 0/174986 [00:00<?, ? examples/s]",
      "application/vnd.jupyter.widget-view+json": {
       "version_major": 2,
       "version_minor": 0,
       "model_id": "f01342589e864b5e823191c99fe24f06"
      }
     },
     "metadata": {},
     "output_type": "display_data"
    },
    {
     "data": {
      "text/plain": "Saving the dataset (0/1 shards):   0%|          | 0/1234 [00:00<?, ? examples/s]",
      "application/vnd.jupyter.widget-view+json": {
       "version_major": 2,
       "version_minor": 0,
       "model_id": "ae034e06f04e4860be23d04cdb02536b"
      }
     },
     "metadata": {},
     "output_type": "display_data"
    }
   ],
   "source": [
    "train_test_data.save_to_disk(\"1024_train_and_test\")"
   ],
   "metadata": {
    "collapsed": false,
    "ExecuteTime": {
     "end_time": "2024-07-15T07:06:11.069541Z",
     "start_time": "2024-07-15T07:06:10.033476400Z"
    }
   }
  },
  {
   "cell_type": "code",
   "execution_count": 21,
   "outputs": [],
   "source": [
    "invaild = []\n",
    "for item in train_test_data['train']:\n",
    "    lenght = len(item[\"messages\"])\n",
    "    if lenght % 2 == 0:\n",
    "        print(item)\n",
    "        invaild.append(item)"
   ],
   "metadata": {
    "collapsed": false,
    "ExecuteTime": {
     "end_time": "2024-07-15T07:06:26.899242100Z",
     "start_time": "2024-07-15T07:06:11.073991100Z"
    }
   }
  },
  {
   "cell_type": "code",
   "execution_count": 22,
   "outputs": [
    {
     "data": {
      "text/plain": "[]"
     },
     "execution_count": 22,
     "metadata": {},
     "output_type": "execute_result"
    }
   ],
   "source": [
    "# invaild"
   ],
   "metadata": {
    "collapsed": false,
    "ExecuteTime": {
     "end_time": "2024-07-15T07:06:44.743356100Z",
     "start_time": "2024-07-15T07:06:44.733190800Z"
    }
   }
  },
  {
   "cell_type": "code",
   "execution_count": null,
   "outputs": [],
   "source": [],
   "metadata": {
    "collapsed": false
   }
  }
 ],
 "metadata": {
  "kernelspec": {
   "display_name": "Python 3",
   "language": "python",
   "name": "python3"
  },
  "language_info": {
   "codemirror_mode": {
    "name": "ipython",
    "version": 2
   },
   "file_extension": ".py",
   "mimetype": "text/x-python",
   "name": "python",
   "nbconvert_exporter": "python",
   "pygments_lexer": "ipython2",
   "version": "2.7.6"
  }
 },
 "nbformat": 4,
 "nbformat_minor": 0
}
